{
 "cells": [
  {
   "cell_type": "markdown",
   "metadata": {},
   "source": [
    "## 0. Install and Import Dependencies"
   ]
  },
  {
   "cell_type": "code",
   "execution_count": 1,
   "metadata": {
    "collapsed": true
   },
   "outputs": [
    {
     "name": "stdout",
     "output_type": "stream",
     "text": [
      "Requirement already satisfied: easyocr in c:\\python312\\lib\\site-packages (1.7.2)\n",
      "Requirement already satisfied: torch in c:\\python312\\lib\\site-packages (from easyocr) (2.3.0)\n",
      "Requirement already satisfied: torchvision>=0.5 in c:\\python312\\lib\\site-packages (from easyocr) (0.18.0)\n",
      "Requirement already satisfied: opencv-python-headless in c:\\python312\\lib\\site-packages (from easyocr) (4.10.0.84)\n",
      "Requirement already satisfied: scipy in c:\\python312\\lib\\site-packages (from easyocr) (1.12.0)\n",
      "Requirement already satisfied: numpy in c:\\python312\\lib\\site-packages (from easyocr) (1.26.4)\n",
      "Requirement already satisfied: Pillow in c:\\python312\\lib\\site-packages (from easyocr) (10.2.0)\n",
      "Requirement already satisfied: scikit-image in c:\\python312\\lib\\site-packages (from easyocr) (0.22.0)\n",
      "Requirement already satisfied: python-bidi in c:\\python312\\lib\\site-packages (from easyocr) (0.6.3)\n",
      "Requirement already satisfied: PyYAML in c:\\python312\\lib\\site-packages (from easyocr) (6.0.1)\n",
      "Requirement already satisfied: Shapely in c:\\python312\\lib\\site-packages (from easyocr) (2.0.6)\n",
      "Requirement already satisfied: pyclipper in c:\\python312\\lib\\site-packages (from easyocr) (1.3.0.post6)\n",
      "Requirement already satisfied: ninja in c:\\python312\\lib\\site-packages (from easyocr) (1.11.1.2)\n",
      "Requirement already satisfied: filelock in c:\\python312\\lib\\site-packages (from torch->easyocr) (3.13.1)\n",
      "Requirement already satisfied: typing-extensions>=4.8.0 in c:\\python312\\lib\\site-packages (from torch->easyocr) (4.10.0)\n",
      "Requirement already satisfied: sympy in c:\\python312\\lib\\site-packages (from torch->easyocr) (1.12.1)\n",
      "Requirement already satisfied: networkx in c:\\python312\\lib\\site-packages (from torch->easyocr) (3.2.1)\n",
      "Requirement already satisfied: jinja2 in c:\\python312\\lib\\site-packages (from torch->easyocr) (3.1.3)\n",
      "Requirement already satisfied: fsspec in c:\\python312\\lib\\site-packages (from torch->easyocr) (2024.2.0)\n",
      "Requirement already satisfied: mkl<=2021.4.0,>=2021.1.1 in c:\\python312\\lib\\site-packages (from torch->easyocr) (2021.4.0)\n",
      "Requirement already satisfied: imageio>=2.27 in c:\\python312\\lib\\site-packages (from scikit-image->easyocr) (2.34.0)\n",
      "Requirement already satisfied: tifffile>=2022.8.12 in c:\\python312\\lib\\site-packages (from scikit-image->easyocr) (2024.2.12)\n",
      "Requirement already satisfied: packaging>=21 in c:\\users\\harsh\\appdata\\roaming\\python\\python312\\site-packages (from scikit-image->easyocr) (23.2)\n",
      "Requirement already satisfied: lazy_loader>=0.3 in c:\\python312\\lib\\site-packages (from scikit-image->easyocr) (0.3)\n",
      "Requirement already satisfied: intel-openmp==2021.* in c:\\python312\\lib\\site-packages (from mkl<=2021.4.0,>=2021.1.1->torch->easyocr) (2021.4.0)\n",
      "Requirement already satisfied: tbb==2021.* in c:\\python312\\lib\\site-packages (from mkl<=2021.4.0,>=2021.1.1->torch->easyocr) (2021.12.0)\n",
      "Requirement already satisfied: MarkupSafe>=2.0 in c:\\python312\\lib\\site-packages (from jinja2->torch->easyocr) (2.1.5)\n",
      "Requirement already satisfied: mpmath<1.4.0,>=1.1.0 in c:\\python312\\lib\\site-packages (from sympy->torch->easyocr) (1.3.0)\n"
     ]
    },
    {
     "name": "stderr",
     "output_type": "stream",
     "text": [
      "DEPRECATION: Loading egg at c:\\python312\\lib\\site-packages\\vboxapi-1.0-py3.12.egg is deprecated. pip 24.3 will enforce this behaviour change. A possible replacement is to use pip for package installation.. Discussion can be found at https://github.com/pypa/pip/issues/12330\n",
      "\n",
      "[notice] A new release of pip is available: 24.0 -> 24.3.1\n",
      "[notice] To update, run: python.exe -m pip install --upgrade pip\n"
     ]
    }
   ],
   "source": [
    "# Install pytorch\n",
    "#https://pytorch.org/get-started/locally/\n",
    "# Install easyocr \n",
    "!pip install easyocr"
   ]
  },
  {
   "cell_type": "code",
   "execution_count": 2,
   "metadata": {},
   "outputs": [
    {
     "name": "stderr",
     "output_type": "stream",
     "text": [
      "c:\\Python312\\Lib\\site-packages\\tqdm\\auto.py:21: TqdmWarning: IProgress not found. Please update jupyter and ipywidgets. See https://ipywidgets.readthedocs.io/en/stable/user_install.html\n",
      "  from .autonotebook import tqdm as notebook_tqdm\n"
     ]
    }
   ],
   "source": [
    "import easyocr\n",
    "import cv2\n",
    "from matplotlib import pyplot as plt\n",
    "import numpy as np"
   ]
  },
  {
   "cell_type": "markdown",
   "metadata": {},
   "source": [
    "## 1. Read in images or video"
   ]
  },
  {
   "cell_type": "code",
   "execution_count": 23,
   "metadata": {},
   "outputs": [],
   "source": [
    "#IMAGE_PATH = 'nimek.webp'\n",
    "IMAGE_PATH = 'sign.jpg'"
   ]
  },
  {
   "cell_type": "code",
   "execution_count": 24,
   "metadata": {},
   "outputs": [
    {
     "name": "stderr",
     "output_type": "stream",
     "text": [
      "Neither CUDA nor MPS are available - defaulting to CPU. Note: This module is much faster with a GPU.\n"
     ]
    },
    {
     "data": {
      "text/plain": [
       "' Navaner 0 Tut 0s  8 ! Crocin udEMAabd Chee Wtui Konl Porroe 0u udom- I2cul 90 157 0105 1 8 Vor nole nfuenibtiod pe Dceduct; Vioit Wiy @ Ucincani  Wectia PARACETAMOL FAST Imoe RELEASETTABLETS 1 8 Kocle; 2p Mry5  Crocin Adatg eml OM 0 8 eeem ! { Crocin S Metuiuia runtc Advine ULI Wucial E I Piq rtmir 6 TutIva IowmbtlymlIcecl Matukorun Jg cep dotnuic nn Unear 2 End 6 1 u KUp5T rocin Ourmcdl\" 12C7 ci 2015 9a'"
      ]
     },
     "execution_count": 24,
     "metadata": {},
     "output_type": "execute_result"
    }
   ],
   "source": [
    "reader = easyocr.Reader(['en'])\n",
    "result = reader.readtext(IMAGE_PATH)\n",
    "full=''\n",
    "for i in result:\n",
    "    full+=\" \"\n",
    "    full+=i[1]\n",
    "full"
   ]
  },
  {
   "cell_type": "code",
   "execution_count": 39,
   "metadata": {},
   "outputs": [
    {
     "name": "stdout",
     "output_type": "stream",
     "text": [
      "An error occurred: 'DRUG PRICE'\n"
     ]
    }
   ],
   "source": [
    "import pandas as pd\n",
    "from rapidfuzz import process, fuzz\n",
    "import re\n",
    "\n",
    "# Step 1: Clean and normalize dataset entries\n",
    "def clean_text(text):\n",
    "    if pd.isna(text):\n",
    "        return \"\"\n",
    "    # Remove non-alphanumeric characters except spaces, convert to lowercase\n",
    "    return re.sub(r'[^a-zA-Z0-9\\s]', '', str(text).lower()).strip()\n",
    "\n",
    "def normalize_text(text):\n",
    "    # Sort words alphabetically after cleaning\n",
    "    return \" \".join(sorted(clean_text(text).split()))\n",
    "\n",
    "# Step 2: Preprocess dataset names for better matching\n",
    "def preprocess_dataset(dataset_names):\n",
    "    return [normalize_text(name) for name in dataset_names]\n",
    "\n",
    "# Step 3: Perform word-level fuzzy matching\n",
    "def find_word_level_matches(input_name, dataset_names, normalized_dataset, limit=5):\n",
    "    # Normalize the input only for matching purposes\n",
    "    normalized_input = normalize_text(input_name)\n",
    "    \n",
    "    # Use rapidfuzz to find the best matches with normalized dataset\n",
    "    matches = process.extract(normalized_input, normalized_dataset, scorer=fuzz.token_set_ratio, limit=limit)\n",
    "    \n",
    "    # Retrieve original names using match indices\n",
    "    results = [(dataset_names[idx], score) for _, score, idx in matches]\n",
    "    return results\n",
    "\n",
    "# Step 4: Load data and perform matching\n",
    "if __name__ == \"__main__\":\n",
    "    # Load the dataset\n",
    "    file_path = \"generic.csv\"  # Replace with your file path\n",
    "    try:\n",
    "        data = pd.read_csv(file_path)\n",
    "        if 'DRUG NAME' not in data.columns:\n",
    "            raise ValueError(\"The CSV file must contain a 'DRUG NAME' column.\")\n",
    "        \n",
    "        # Original and normalized dataset\n",
    "        dataset_names = data['DRUG NAME'].tolist()  # Original names\n",
    "        normalized_dataset = preprocess_dataset(dataset_names)  # Preprocessed for matching\n",
    "\n",
    "        # Example input (unchanged noisy input)\n",
    "        input_name = full\n",
    "\n",
    "        # Find matches\n",
    "        matches = find_word_level_matches(input_name, dataset_names, normalized_dataset)\n",
    "        \n",
    "        for original_name, score in matches:\n",
    "            if not data.loc[data['DRUG NAME'] == original_name, 'DRUG PRICE'].empty:\n",
    "                price = data.loc[data['DRUG NAME'] == original_name, 'DRUG PRICE'].iloc[0]\n",
    "            else:\n",
    "                price = None  # or handle the case appropriately\n",
    "\n",
    "    \n",
    "    except FileNotFoundError:\n",
    "        print(f\"Error: The file '{file_path}' was not found.\")\n",
    "    except Exception as e:\n",
    "        print(f\"An error occurred: {e}\")\n"
   ]
  },
  {
   "cell_type": "code",
   "execution_count": 41,
   "metadata": {},
   "outputs": [
    {
     "data": {
      "text/plain": [
       "Index(['DRUG NAME', 'DRUG PRICE '], dtype='object')"
      ]
     },
     "execution_count": 41,
     "metadata": {},
     "output_type": "execute_result"
    }
   ],
   "source": [
    "file_path = \"generic.csv\"  # Replace with your file path\n",
    "data = pd.read_csv(file_path)\n",
    "data.columns"
   ]
  },
  {
   "cell_type": "code",
   "execution_count": null,
   "metadata": {},
   "outputs": [],
   "source": []
  }
 ],
 "metadata": {
  "kernelspec": {
   "display_name": "Python 3",
   "language": "python",
   "name": "python3"
  },
  "language_info": {
   "codemirror_mode": {
    "name": "ipython",
    "version": 3
   },
   "file_extension": ".py",
   "mimetype": "text/x-python",
   "name": "python",
   "nbconvert_exporter": "python",
   "pygments_lexer": "ipython3",
   "version": "3.12.1"
  }
 },
 "nbformat": 4,
 "nbformat_minor": 2
}
